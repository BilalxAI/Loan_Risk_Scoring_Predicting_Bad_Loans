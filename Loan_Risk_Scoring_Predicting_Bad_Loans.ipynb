{
  "nbformat": 4,
  "nbformat_minor": 0,
  "metadata": {
    "colab": {
      "name": "Loan Risk Scoring - Predicting Bad Loans.ipynb",
      "provenance": []
    },
    "kernelspec": {
      "name": "python3",
      "display_name": "Python 3"
    },
    "language_info": {
      "name": "python"
    }
  },
  "cells": [
    {
      "cell_type": "markdown",
      "source": [
        "**Installing the datarobot package**"
      ],
      "metadata": {
        "id": "PJBmrLaH_RuR"
      }
    },
    {
      "cell_type": "code",
      "execution_count": 36,
      "metadata": {
        "colab": {
          "base_uri": "https://localhost:8080/"
        },
        "id": "e4c_4YQrtJeE",
        "outputId": "710c1f8b-7ec5-427d-af3f-375f2dd879e5"
      },
      "outputs": [
        {
          "output_type": "stream",
          "name": "stdout",
          "text": [
            "Looking in indexes: https://pypi.org/simple, https://us-python.pkg.dev/colab-wheels/public/simple/\n",
            "Requirement already satisfied: datarobot in /usr/local/lib/python3.7/dist-packages (2.28.0)\n",
            "Requirement already satisfied: contextlib2>=0.5.5 in /usr/local/lib/python3.7/dist-packages (from datarobot) (0.5.5)\n",
            "Requirement already satisfied: requests>=2.21 in /usr/local/lib/python3.7/dist-packages (from datarobot) (2.23.0)\n",
            "Requirement already satisfied: trafaret!=1.1.0,<2.2,>=0.7 in /usr/local/lib/python3.7/dist-packages (from datarobot) (2.1.1)\n",
            "Requirement already satisfied: requests-toolbelt>=0.6 in /usr/local/lib/python3.7/dist-packages (from datarobot) (0.9.1)\n",
            "Requirement already satisfied: urllib3>=1.23 in /usr/local/lib/python3.7/dist-packages (from datarobot) (1.24.3)\n",
            "Requirement already satisfied: pyyaml>=3.11 in /usr/local/lib/python3.7/dist-packages (from datarobot) (3.13)\n",
            "Requirement already satisfied: pandas<1.3.6,>=0.15 in /usr/local/lib/python3.7/dist-packages (from datarobot) (1.3.5)\n",
            "Requirement already satisfied: numpy>=1.17.3 in /usr/local/lib/python3.7/dist-packages (from pandas<1.3.6,>=0.15->datarobot) (1.21.6)\n",
            "Requirement already satisfied: python-dateutil>=2.7.3 in /usr/local/lib/python3.7/dist-packages (from pandas<1.3.6,>=0.15->datarobot) (2.8.2)\n",
            "Requirement already satisfied: pytz>=2017.3 in /usr/local/lib/python3.7/dist-packages (from pandas<1.3.6,>=0.15->datarobot) (2022.1)\n",
            "Requirement already satisfied: six>=1.5 in /usr/local/lib/python3.7/dist-packages (from python-dateutil>=2.7.3->pandas<1.3.6,>=0.15->datarobot) (1.15.0)\n",
            "Requirement already satisfied: idna<3,>=2.5 in /usr/local/lib/python3.7/dist-packages (from requests>=2.21->datarobot) (2.10)\n",
            "Requirement already satisfied: certifi>=2017.4.17 in /usr/local/lib/python3.7/dist-packages (from requests>=2.21->datarobot) (2022.6.15)\n",
            "Requirement already satisfied: chardet<4,>=3.0.2 in /usr/local/lib/python3.7/dist-packages (from requests>=2.21->datarobot) (3.0.4)\n"
          ]
        }
      ],
      "source": [
        "pip install datarobot # installing datarobot package\n"
      ]
    },
    {
      "cell_type": "markdown",
      "source": [
        "**Other Important Imports**"
      ],
      "metadata": {
        "id": "-2ocR9oJ_a7W"
      }
    },
    {
      "cell_type": "code",
      "source": [
        "import datarobot as dr #  importing datarobot package\n",
        "import datetime      #  importing datetime package\n",
        "import pandas as pd   #  importing pandas package"
      ],
      "metadata": {
        "id": "wgPbSyqTu66F"
      },
      "execution_count": 4,
      "outputs": []
    },
    {
      "cell_type": "markdown",
      "source": [
        "**Configure the Python Client**"
      ],
      "metadata": {
        "id": "x0DzB7rI_hJ7"
      }
    },
    {
      "cell_type": "code",
      "source": [
        "# Initialization with arguments\n",
        "dr.Client(token='NjJiMDFjZDUzMmJhZTYwMmI1MmFmNzFjOldIam95R0ZDNnhoajhFZ2RCRGJBWTdXS1BjOU95TGFXMklub3E4NnovZmc9', endpoint='https://app2.datarobot.com/api/v2')\n"
      ],
      "metadata": {
        "colab": {
          "base_uri": "https://localhost:8080/"
        },
        "id": "0uYD770O5yrM",
        "outputId": "7c1a406a-a0ce-48b7-f184-802c8e19b633"
      },
      "execution_count": 37,
      "outputs": [
        {
          "output_type": "execute_result",
          "data": {
            "text/plain": [
              "<datarobot.rest.RESTClientObject at 0x7fd4b2019350>"
            ]
          },
          "metadata": {},
          "execution_count": 37
        }
      ]
    },
    {
      "cell_type": "code",
      "source": [
        "dr.Client(config_path = \"/content/~.configdatarobotdrconfig.yaml\")"
      ],
      "metadata": {
        "colab": {
          "base_uri": "https://localhost:8080/"
        },
        "id": "wl9nhoPE8rcn",
        "outputId": "0b280f5e-0993-4497-abf0-378800faa5dc"
      },
      "execution_count": 38,
      "outputs": [
        {
          "output_type": "stream",
          "name": "stderr",
          "text": [
            "/usr/local/lib/python3.7/dist-packages/datarobot/client.py:141: UserWarning: Unable to authenticate to the server - are you sure the provided token of \"NjJiMDFjZDUzMmJhZTYwMmI1MmFmNzFjOldIam95R0ZDNnhoajhFZ2RCRGJBWTdXS1BjOU95TGFXMklub3E4NnovZmc9\" and endpoint of \"https://app.datarobot.com/api/v2\" are correct? Note that if you access the DataRobot webapp at `https://app.datarobot.com`, then the correct endpoint to specify would be `https://app.datarobot.com/api/v2`.\n",
            "  warnings.warn(w_msg_tmpl.format(client.endpoint))\n"
          ]
        },
        {
          "output_type": "execute_result",
          "data": {
            "text/plain": [
              "<datarobot.rest.RESTClientObject at 0x7fd4b2019350>"
            ]
          },
          "metadata": {},
          "execution_count": 38
        }
      ]
    },
    {
      "cell_type": "markdown",
      "source": [
        "**Create the Project**"
      ],
      "metadata": {
        "id": "ygs4X37K_1FW"
      }
    },
    {
      "cell_type": "code",
      "source": [
        "filename = '/content/10K_Lending_Club_Loans.csv'\n",
        "now = datetime.datetime.now().strftime('%Y-%m-%dT%H:%M')\n",
        "project_name = '/content/10K_Lending_Club_Loans_{}'.format(now)\n",
        "proj = dr.Project.create(sourcedata=filename, project_name=project_name)\n",
        "print('Project ID: {}'.format(proj.id))\n"
      ],
      "metadata": {
        "colab": {
          "base_uri": "https://localhost:8080/"
        },
        "id": "egzgIncNuLy7",
        "outputId": "0d535a0e-0e5a-47d5-a3bb-1c5078448bfe"
      },
      "execution_count": 39,
      "outputs": [
        {
          "output_type": "stream",
          "name": "stdout",
          "text": [
            "Project ID: 62b0a364c94547156d001147\n"
          ]
        }
      ]
    },
    {
      "cell_type": "markdown",
      "source": [
        "**Select Features for Modeling**"
      ],
      "metadata": {
        "id": "VwTIg7fg_9Xz"
      }
    },
    {
      "cell_type": "code",
      "source": [
        "raw = [feat_list for feat_list in proj.get_featurelists()\n",
        "       if feat_list.name == 'Raw Features'][0]\n",
        "raw_features = [\n",
        "    {\n",
        "        \"name\": feat,\n",
        "        \"type\": dr.Feature.get(proj.id, feat).feature_type\n",
        "    }\n",
        "    for feat in raw.features\n",
        "]\n",
        "pd.DataFrame.from_dict(raw_features)"
      ],
      "metadata": {
        "colab": {
          "base_uri": "https://localhost:8080/",
          "height": 1000
        },
        "id": "h1F7eX_xwVod",
        "outputId": "c6df0a16-859c-410f-c219-bc26a7fc140d"
      },
      "execution_count": 24,
      "outputs": [
        {
          "output_type": "execute_result",
          "data": {
            "text/plain": [
              "                           name         type\n",
              "0                     loan_amnt      Numeric\n",
              "1                   funded_amnt      Numeric\n",
              "2                          term  Categorical\n",
              "3                      int_rate   Percentage\n",
              "4                   installment      Numeric\n",
              "5                         grade  Categorical\n",
              "6                     sub_grade  Categorical\n",
              "7                     emp_title         Text\n",
              "8                    emp_length  Categorical\n",
              "9                home_ownership  Categorical\n",
              "10                   annual_inc      Numeric\n",
              "11          verification_status  Categorical\n",
              "12                   pymnt_plan  Categorical\n",
              "13                          url         Text\n",
              "14                         desc         Text\n",
              "15                      purpose  Categorical\n",
              "16                        title         Text\n",
              "17                     zip_code  Categorical\n",
              "18                   addr_state  Categorical\n",
              "19                          dti      Numeric\n",
              "20                  delinq_2yrs      Numeric\n",
              "21             earliest_cr_line         Date\n",
              "22               inq_last_6mths      Numeric\n",
              "23       mths_since_last_delinq      Numeric\n",
              "24       mths_since_last_record      Numeric\n",
              "25                     open_acc      Numeric\n",
              "26                      pub_rec      Numeric\n",
              "27                    revol_bal      Numeric\n",
              "28                   revol_util      Numeric\n",
              "29                    total_acc      Numeric\n",
              "30          initial_list_status  Categorical\n",
              "31  mths_since_last_major_derog         None\n",
              "32                  policy_code      Numeric\n",
              "33                       is_bad      Numeric"
            ],
            "text/html": [
              "\n",
              "  <div id=\"df-204bc21d-ea50-4e82-acbb-e92f4090d7eb\">\n",
              "    <div class=\"colab-df-container\">\n",
              "      <div>\n",
              "<style scoped>\n",
              "    .dataframe tbody tr th:only-of-type {\n",
              "        vertical-align: middle;\n",
              "    }\n",
              "\n",
              "    .dataframe tbody tr th {\n",
              "        vertical-align: top;\n",
              "    }\n",
              "\n",
              "    .dataframe thead th {\n",
              "        text-align: right;\n",
              "    }\n",
              "</style>\n",
              "<table border=\"1\" class=\"dataframe\">\n",
              "  <thead>\n",
              "    <tr style=\"text-align: right;\">\n",
              "      <th></th>\n",
              "      <th>name</th>\n",
              "      <th>type</th>\n",
              "    </tr>\n",
              "  </thead>\n",
              "  <tbody>\n",
              "    <tr>\n",
              "      <th>0</th>\n",
              "      <td>loan_amnt</td>\n",
              "      <td>Numeric</td>\n",
              "    </tr>\n",
              "    <tr>\n",
              "      <th>1</th>\n",
              "      <td>funded_amnt</td>\n",
              "      <td>Numeric</td>\n",
              "    </tr>\n",
              "    <tr>\n",
              "      <th>2</th>\n",
              "      <td>term</td>\n",
              "      <td>Categorical</td>\n",
              "    </tr>\n",
              "    <tr>\n",
              "      <th>3</th>\n",
              "      <td>int_rate</td>\n",
              "      <td>Percentage</td>\n",
              "    </tr>\n",
              "    <tr>\n",
              "      <th>4</th>\n",
              "      <td>installment</td>\n",
              "      <td>Numeric</td>\n",
              "    </tr>\n",
              "    <tr>\n",
              "      <th>5</th>\n",
              "      <td>grade</td>\n",
              "      <td>Categorical</td>\n",
              "    </tr>\n",
              "    <tr>\n",
              "      <th>6</th>\n",
              "      <td>sub_grade</td>\n",
              "      <td>Categorical</td>\n",
              "    </tr>\n",
              "    <tr>\n",
              "      <th>7</th>\n",
              "      <td>emp_title</td>\n",
              "      <td>Text</td>\n",
              "    </tr>\n",
              "    <tr>\n",
              "      <th>8</th>\n",
              "      <td>emp_length</td>\n",
              "      <td>Categorical</td>\n",
              "    </tr>\n",
              "    <tr>\n",
              "      <th>9</th>\n",
              "      <td>home_ownership</td>\n",
              "      <td>Categorical</td>\n",
              "    </tr>\n",
              "    <tr>\n",
              "      <th>10</th>\n",
              "      <td>annual_inc</td>\n",
              "      <td>Numeric</td>\n",
              "    </tr>\n",
              "    <tr>\n",
              "      <th>11</th>\n",
              "      <td>verification_status</td>\n",
              "      <td>Categorical</td>\n",
              "    </tr>\n",
              "    <tr>\n",
              "      <th>12</th>\n",
              "      <td>pymnt_plan</td>\n",
              "      <td>Categorical</td>\n",
              "    </tr>\n",
              "    <tr>\n",
              "      <th>13</th>\n",
              "      <td>url</td>\n",
              "      <td>Text</td>\n",
              "    </tr>\n",
              "    <tr>\n",
              "      <th>14</th>\n",
              "      <td>desc</td>\n",
              "      <td>Text</td>\n",
              "    </tr>\n",
              "    <tr>\n",
              "      <th>15</th>\n",
              "      <td>purpose</td>\n",
              "      <td>Categorical</td>\n",
              "    </tr>\n",
              "    <tr>\n",
              "      <th>16</th>\n",
              "      <td>title</td>\n",
              "      <td>Text</td>\n",
              "    </tr>\n",
              "    <tr>\n",
              "      <th>17</th>\n",
              "      <td>zip_code</td>\n",
              "      <td>Categorical</td>\n",
              "    </tr>\n",
              "    <tr>\n",
              "      <th>18</th>\n",
              "      <td>addr_state</td>\n",
              "      <td>Categorical</td>\n",
              "    </tr>\n",
              "    <tr>\n",
              "      <th>19</th>\n",
              "      <td>dti</td>\n",
              "      <td>Numeric</td>\n",
              "    </tr>\n",
              "    <tr>\n",
              "      <th>20</th>\n",
              "      <td>delinq_2yrs</td>\n",
              "      <td>Numeric</td>\n",
              "    </tr>\n",
              "    <tr>\n",
              "      <th>21</th>\n",
              "      <td>earliest_cr_line</td>\n",
              "      <td>Date</td>\n",
              "    </tr>\n",
              "    <tr>\n",
              "      <th>22</th>\n",
              "      <td>inq_last_6mths</td>\n",
              "      <td>Numeric</td>\n",
              "    </tr>\n",
              "    <tr>\n",
              "      <th>23</th>\n",
              "      <td>mths_since_last_delinq</td>\n",
              "      <td>Numeric</td>\n",
              "    </tr>\n",
              "    <tr>\n",
              "      <th>24</th>\n",
              "      <td>mths_since_last_record</td>\n",
              "      <td>Numeric</td>\n",
              "    </tr>\n",
              "    <tr>\n",
              "      <th>25</th>\n",
              "      <td>open_acc</td>\n",
              "      <td>Numeric</td>\n",
              "    </tr>\n",
              "    <tr>\n",
              "      <th>26</th>\n",
              "      <td>pub_rec</td>\n",
              "      <td>Numeric</td>\n",
              "    </tr>\n",
              "    <tr>\n",
              "      <th>27</th>\n",
              "      <td>revol_bal</td>\n",
              "      <td>Numeric</td>\n",
              "    </tr>\n",
              "    <tr>\n",
              "      <th>28</th>\n",
              "      <td>revol_util</td>\n",
              "      <td>Numeric</td>\n",
              "    </tr>\n",
              "    <tr>\n",
              "      <th>29</th>\n",
              "      <td>total_acc</td>\n",
              "      <td>Numeric</td>\n",
              "    </tr>\n",
              "    <tr>\n",
              "      <th>30</th>\n",
              "      <td>initial_list_status</td>\n",
              "      <td>Categorical</td>\n",
              "    </tr>\n",
              "    <tr>\n",
              "      <th>31</th>\n",
              "      <td>mths_since_last_major_derog</td>\n",
              "      <td>None</td>\n",
              "    </tr>\n",
              "    <tr>\n",
              "      <th>32</th>\n",
              "      <td>policy_code</td>\n",
              "      <td>Numeric</td>\n",
              "    </tr>\n",
              "    <tr>\n",
              "      <th>33</th>\n",
              "      <td>is_bad</td>\n",
              "      <td>Numeric</td>\n",
              "    </tr>\n",
              "  </tbody>\n",
              "</table>\n",
              "</div>\n",
              "      <button class=\"colab-df-convert\" onclick=\"convertToInteractive('df-204bc21d-ea50-4e82-acbb-e92f4090d7eb')\"\n",
              "              title=\"Convert this dataframe to an interactive table.\"\n",
              "              style=\"display:none;\">\n",
              "        \n",
              "  <svg xmlns=\"http://www.w3.org/2000/svg\" height=\"24px\"viewBox=\"0 0 24 24\"\n",
              "       width=\"24px\">\n",
              "    <path d=\"M0 0h24v24H0V0z\" fill=\"none\"/>\n",
              "    <path d=\"M18.56 5.44l.94 2.06.94-2.06 2.06-.94-2.06-.94-.94-2.06-.94 2.06-2.06.94zm-11 1L8.5 8.5l.94-2.06 2.06-.94-2.06-.94L8.5 2.5l-.94 2.06-2.06.94zm10 10l.94 2.06.94-2.06 2.06-.94-2.06-.94-.94-2.06-.94 2.06-2.06.94z\"/><path d=\"M17.41 7.96l-1.37-1.37c-.4-.4-.92-.59-1.43-.59-.52 0-1.04.2-1.43.59L10.3 9.45l-7.72 7.72c-.78.78-.78 2.05 0 2.83L4 21.41c.39.39.9.59 1.41.59.51 0 1.02-.2 1.41-.59l7.78-7.78 2.81-2.81c.8-.78.8-2.07 0-2.86zM5.41 20L4 18.59l7.72-7.72 1.47 1.35L5.41 20z\"/>\n",
              "  </svg>\n",
              "      </button>\n",
              "      \n",
              "  <style>\n",
              "    .colab-df-container {\n",
              "      display:flex;\n",
              "      flex-wrap:wrap;\n",
              "      gap: 12px;\n",
              "    }\n",
              "\n",
              "    .colab-df-convert {\n",
              "      background-color: #E8F0FE;\n",
              "      border: none;\n",
              "      border-radius: 50%;\n",
              "      cursor: pointer;\n",
              "      display: none;\n",
              "      fill: #1967D2;\n",
              "      height: 32px;\n",
              "      padding: 0 0 0 0;\n",
              "      width: 32px;\n",
              "    }\n",
              "\n",
              "    .colab-df-convert:hover {\n",
              "      background-color: #E2EBFA;\n",
              "      box-shadow: 0px 1px 2px rgba(60, 64, 67, 0.3), 0px 1px 3px 1px rgba(60, 64, 67, 0.15);\n",
              "      fill: #174EA6;\n",
              "    }\n",
              "\n",
              "    [theme=dark] .colab-df-convert {\n",
              "      background-color: #3B4455;\n",
              "      fill: #D2E3FC;\n",
              "    }\n",
              "\n",
              "    [theme=dark] .colab-df-convert:hover {\n",
              "      background-color: #434B5C;\n",
              "      box-shadow: 0px 1px 3px 1px rgba(0, 0, 0, 0.15);\n",
              "      filter: drop-shadow(0px 1px 2px rgba(0, 0, 0, 0.3));\n",
              "      fill: #FFFFFF;\n",
              "    }\n",
              "  </style>\n",
              "\n",
              "      <script>\n",
              "        const buttonEl =\n",
              "          document.querySelector('#df-204bc21d-ea50-4e82-acbb-e92f4090d7eb button.colab-df-convert');\n",
              "        buttonEl.style.display =\n",
              "          google.colab.kernel.accessAllowed ? 'block' : 'none';\n",
              "\n",
              "        async function convertToInteractive(key) {\n",
              "          const element = document.querySelector('#df-204bc21d-ea50-4e82-acbb-e92f4090d7eb');\n",
              "          const dataTable =\n",
              "            await google.colab.kernel.invokeFunction('convertToInteractive',\n",
              "                                                     [key], {});\n",
              "          if (!dataTable) return;\n",
              "\n",
              "          const docLinkHtml = 'Like what you see? Visit the ' +\n",
              "            '<a target=\"_blank\" href=https://colab.research.google.com/notebooks/data_table.ipynb>data table notebook</a>'\n",
              "            + ' to learn more about interactive tables.';\n",
              "          element.innerHTML = '';\n",
              "          dataTable['output_type'] = 'display_data';\n",
              "          await google.colab.output.renderOutput(dataTable, element);\n",
              "          const docLink = document.createElement('div');\n",
              "          docLink.innerHTML = docLinkHtml;\n",
              "          element.appendChild(docLink);\n",
              "        }\n",
              "      </script>\n",
              "    </div>\n",
              "  </div>\n",
              "  "
            ]
          },
          "metadata": {},
          "execution_count": 24
        }
      ]
    },
    {
      "cell_type": "markdown",
      "source": [
        "**Modify Feature Types**"
      ],
      "metadata": {
        "id": "izQkQjHiAGgx"
      }
    },
    {
      "cell_type": "code",
      "source": [
        "proj.create_type_transform_feature(\n",
        "    \"delinq_2yrs(Cat)\",  # new feature name\n",
        "    \"delinq_2yrs\",       # parent name\n",
        "    dr.enums.VARIABLE_TYPE_TRANSFORM.CATEGORICAL_INT\n",
        ")"
      ],
      "metadata": {
        "colab": {
          "base_uri": "https://localhost:8080/"
        },
        "id": "5VCWA-AAwnPH",
        "outputId": "ff5e74cb-24be-460d-d490-e3f32704e84f"
      },
      "execution_count": 40,
      "outputs": [
        {
          "output_type": "execute_result",
          "data": {
            "text/plain": [
              "Feature(delinq_2yrs(Cat))"
            ]
          },
          "metadata": {},
          "execution_count": 40
        }
      ]
    },
    {
      "cell_type": "code",
      "source": [
        "proj.create_type_transform_feature(\n",
        "    \"addr_state(Text)\",  # new feature name\n",
        "    \"addr_state\",        # parent name\n",
        "    dr.enums.VARIABLE_TYPE_TRANSFORM.TEXT\n",
        ")"
      ],
      "metadata": {
        "colab": {
          "base_uri": "https://localhost:8080/"
        },
        "id": "hleiakVR140N",
        "outputId": "d0d2f6cd-f4f7-4f49-8cdd-4f7fac10690d"
      },
      "execution_count": 41,
      "outputs": [
        {
          "output_type": "execute_result",
          "data": {
            "text/plain": [
              "Feature(addr_state(Text))"
            ]
          },
          "metadata": {},
          "execution_count": 41
        }
      ]
    },
    {
      "cell_type": "markdown",
      "source": [
        "**Select Features for Modeling**"
      ],
      "metadata": {
        "id": "VDfWPLblAMs1"
      }
    },
    {
      "cell_type": "code",
      "source": [
        "feature_list_name = \"new_feature_list\"\n",
        "\n",
        "new_feature_list = proj.create_featurelist(\n",
        "    feature_list_name,\n",
        "    list((set(raw.features) - {\"addr_state\", \"delinq_2yrs\"}) |\n",
        "         {\"delinq_2yrs(Cat)\", \"delinq_2yrs(Cat)\"})\n",
        ")"
      ],
      "metadata": {
        "id": "2K1YerQCwwlQ"
      },
      "execution_count": 42,
      "outputs": []
    },
    {
      "cell_type": "markdown",
      "source": [
        "**Run the Automated Modeling Process**"
      ],
      "metadata": {
        "id": "qXWbGxt9ARSi"
      }
    },
    {
      "cell_type": "code",
      "source": [
        "proj.set_target(\n",
        "    \"is_bad\",\n",
        "    mode=dr.enums.AUTOPILOT_MODE.FULL_AUTO,\n",
        "    metric=\"LogLoss\",\n",
        "    featurelist_id=new_feature_list.id,\n",
        "    worker_count=-1\n",
        ")\n",
        "\n",
        "proj.wait_for_autopilot()"
      ],
      "metadata": {
        "colab": {
          "base_uri": "https://localhost:8080/"
        },
        "id": "X9jigiUsxHrJ",
        "outputId": "47702e5f-4c14-46e0-c668-195005270e52"
      },
      "execution_count": 28,
      "outputs": [
        {
          "output_type": "stream",
          "name": "stdout",
          "text": [
            "In progress: 20, queued: 20 (waited: 0s)\n",
            "In progress: 20, queued: 20 (waited: 0s)\n",
            "In progress: 20, queued: 20 (waited: 1s)\n",
            "In progress: 20, queued: 20 (waited: 2s)\n",
            "In progress: 20, queued: 20 (waited: 3s)\n",
            "In progress: 20, queued: 20 (waited: 5s)\n",
            "In progress: 20, queued: 20 (waited: 8s)\n",
            "In progress: 13, queued: 19 (waited: 15s)\n",
            "In progress: 19, queued: 5 (waited: 28s)\n",
            "In progress: 14, queued: 0 (waited: 48s)\n",
            "In progress: 6, queued: 0 (waited: 69s)\n",
            "In progress: 3, queued: 0 (waited: 89s)\n",
            "In progress: 3, queued: 0 (waited: 109s)\n",
            "In progress: 3, queued: 0 (waited: 130s)\n",
            "In progress: 0, queued: 0 (waited: 150s)\n",
            "In progress: 20, queued: 0 (waited: 170s)\n",
            "In progress: 12, queued: 0 (waited: 190s)\n",
            "In progress: 8, queued: 0 (waited: 211s)\n",
            "In progress: 7, queued: 0 (waited: 231s)\n",
            "In progress: 7, queued: 0 (waited: 251s)\n",
            "In progress: 7, queued: 0 (waited: 272s)\n",
            "In progress: 7, queued: 0 (waited: 292s)\n",
            "In progress: 3, queued: 0 (waited: 312s)\n",
            "In progress: 1, queued: 0 (waited: 332s)\n",
            "In progress: 12, queued: 0 (waited: 353s)\n",
            "In progress: 7, queued: 0 (waited: 373s)\n",
            "In progress: 1, queued: 0 (waited: 393s)\n",
            "In progress: 1, queued: 0 (waited: 414s)\n",
            "In progress: 20, queued: 12 (waited: 434s)\n",
            "In progress: 20, queued: 12 (waited: 454s)\n",
            "In progress: 12, queued: 11 (waited: 475s)\n",
            "In progress: 14, queued: 0 (waited: 495s)\n",
            "In progress: 4, queued: 0 (waited: 515s)\n",
            "In progress: 4, queued: 0 (waited: 536s)\n",
            "In progress: 1, queued: 0 (waited: 556s)\n",
            "In progress: 0, queued: 0 (waited: 576s)\n",
            "In progress: 0, queued: 0 (waited: 596s)\n",
            "In progress: 0, queued: 0 (waited: 617s)\n",
            "In progress: 5, queued: 0 (waited: 637s)\n",
            "In progress: 1, queued: 0 (waited: 657s)\n",
            "In progress: 0, queued: 0 (waited: 677s)\n",
            "In progress: 2, queued: 1 (waited: 698s)\n",
            "In progress: 1, queued: 0 (waited: 718s)\n",
            "In progress: 1, queued: 0 (waited: 738s)\n",
            "In progress: 3, queued: 1 (waited: 759s)\n",
            "In progress: 1, queued: 1 (waited: 779s)\n",
            "In progress: 1, queued: 0 (waited: 799s)\n",
            "In progress: 8, queued: 2 (waited: 819s)\n",
            "In progress: 4, queued: 0 (waited: 840s)\n",
            "In progress: 2, queued: 0 (waited: 860s)\n",
            "In progress: 1, queued: 0 (waited: 880s)\n",
            "In progress: 1, queued: 0 (waited: 901s)\n",
            "In progress: 0, queued: 0 (waited: 921s)\n",
            "In progress: 0, queued: 0 (waited: 941s)\n",
            "In progress: 0, queued: 0 (waited: 961s)\n",
            "In progress: 0, queued: 0 (waited: 982s)\n"
          ]
        }
      ]
    },
    {
      "cell_type": "markdown",
      "source": [
        "**Exploring Trained Models**"
      ],
      "metadata": {
        "id": "NYzN_uIJAWnQ"
      }
    },
    {
      "cell_type": "code",
      "source": [
        "models = proj.get_models()\n",
        "for idx, model in enumerate(models):\n",
        "    print('[{}]: {} - {}'.\n",
        "          format(idx, model.metrics['LogLoss']['validation'],\n",
        "                 model.model_type))"
      ],
      "metadata": {
        "colab": {
          "base_uri": "https://localhost:8080/"
        },
        "id": "itMAhg4K2LJJ",
        "outputId": "810cb31b-fe57-4c2a-8d83-c7dc287889c3"
      },
      "execution_count": 33,
      "outputs": [
        {
          "output_type": "stream",
          "name": "stdout",
          "text": [
            "[0]: 0.36535 - Light Gradient Boosted Trees Classifier with Early Stopping\n",
            "[1]: 0.36608 - Light Gradient Boosted Trees Classifier with Early Stopping\n",
            "[2]: 0.36676 - Advanced AVG Blender\n",
            "[3]: 0.36686 - AVG Blender\n",
            "[4]: 0.36687 - eXtreme Gradient Boosted Trees Classifier with Early Stopping\n",
            "[5]: 0.36718 - eXtreme Gradient Boosted Trees Classifier with Early Stopping\n",
            "[6]: 0.36737 - eXtreme Gradient Boosted Trees Classifier with Early Stopping\n",
            "[7]: 0.36769 - Light Gradient Boosted Trees Classifier with Early Stopping\n",
            "[8]: 0.36807 - Light Gradient Boosted Trees Classifier with Early Stopping\n",
            "[9]: 0.36874 - Gradient Boosted Trees Classifier with Early Stopping\n",
            "[10]: 0.3688 - Light Gradient Boosted Trees Classifier with Early Stopping\n",
            "[11]: 0.36937 - Gradient Boosted Trees Classifier with Early Stopping\n",
            "[12]: 0.36954 - eXtreme Gradient Boosted Trees Classifier with Early Stopping\n",
            "[13]: 0.37001 - eXtreme Gradient Boosted Trees Classifier with Early Stopping and Unsupervised Learning Features\n",
            "[14]: 0.3705 - eXtreme Gradient Boosted Trees Classifier with Early Stopping\n",
            "[15]: 0.37119 - Gradient Boosted Trees Classifier with Early Stopping\n",
            "[16]: 0.37124 - eXtreme Gradient Boosted Trees Classifier with Early Stopping and Unsupervised Learning Features\n",
            "[17]: 0.37172 - Elastic-Net Classifier (mixing alpha=0.5 / Binomial Deviance)\n",
            "[18]: 0.37198 - Light Gradient Boosted Trees Classifier with Early Stopping\n",
            "[19]: 0.37218 - Gradient Boosted Trees Classifier\n",
            "[20]: 0.37227 - Light Gradient Boosted Trees Classifier with Early Stopping\n",
            "[21]: 0.37259 - Gradient Boosted Trees Classifier\n",
            "[22]: 0.3727 - Elastic-Net Classifier (mixing alpha=0.5 / Binomial Deviance)\n",
            "[23]: 0.37284 - eXtreme Gradient Boosted Trees Classifier with Early Stopping\n",
            "[24]: 0.3729 - RandomForest Classifier (Entropy)\n",
            "[25]: 0.37317 - Generalized Additive2 Model\n",
            "[26]: 0.37339 - Nystroem Kernel SVM Classifier\n",
            "[27]: 0.37358 - ExtraTrees Classifier (Gini)\n",
            "[28]: 0.37365 - RandomForest Classifier (Gini)\n",
            "[29]: 0.37438 - Nystroem Kernel SVM Classifier\n",
            "[30]: 0.37458 - ExtraTrees Classifier (Gini)\n",
            "[31]: 0.37495 - Light Gradient Boosted Trees Classifier with Early Stopping\n",
            "[32]: 0.37547 - RandomForest Classifier (Entropy)\n",
            "[33]: 0.37559 - eXtreme Gradient Boosted Trees Classifier with Early Stopping\n",
            "[34]: 0.37571 - RandomForest Classifier (Gini)\n",
            "[35]: 0.37629 - eXtreme Gradient Boosted Trees Classifier with Early Stopping and Unsupervised Learning Features\n",
            "[36]: 0.37673 - Eureqa Classifier (Quick Search: 250 Generations)\n",
            "[37]: 0.37734 - Gradient Boosted Trees Classifier\n",
            "[38]: 0.37744 - eXtreme Gradient Boosted Trees Classifier with Early Stopping\n",
            "[39]: 0.37774 - Regularized Logistic Regression (L2)\n",
            "[40]: 0.37807 - Elastic-Net Classifier (mixing alpha=0.5 / Binomial Deviance)\n",
            "[41]: 0.37843 - RandomForest Classifier (Gini)\n",
            "[42]: 0.3786 - eXtreme Gradient Boosted Trees Classifier with Early Stopping\n",
            "[43]: 0.37892 - Eureqa Classifier (Quick Search: 250 Generations)\n",
            "[44]: 0.37984 - RandomForest Classifier (Gini)\n",
            "[45]: 0.38013 - Regularized Logistic Regression (L2)\n",
            "[46]: 0.38025 - Generalized Additive2 Model\n",
            "[47]: 0.38026 - Auto-Tuned Word N-Gram Text Modeler using token occurrences - desc\n",
            "[48]: 0.38044 - Auto-tuned K-Nearest Neighbors Classifier (Euclidean Distance)\n",
            "[49]: 0.38062 - Elastic-Net Classifier (L2 / Binomial Deviance) with Binned numeric features\n",
            "[50]: 0.38092 - Elastic-Net Classifier (L2 / Binomial Deviance)\n",
            "[51]: 0.3811 - eXtreme Gradient Boosted Trees Classifier with Early Stopping\n",
            "[52]: 0.38136 - Auto-Tuned Word N-Gram Text Modeler using token occurrences - desc\n",
            "[53]: 0.38178 - Light Gradient Boosting on ElasticNet Predictions \n",
            "[54]: 0.38194 - Regularized Logistic Regression (L2)\n",
            "[55]: 0.38323 - Auto-Tuned Word N-Gram Text Modeler using token occurrences - desc\n",
            "[56]: 0.3833 - Auto-Tuned Word N-Gram Text Modeler using token occurrences - title\n",
            "[57]: 0.38363 - Elastic-Net Classifier (mixing alpha=0.5 / Binomial Deviance)\n",
            "[58]: 0.38372 - Elastic-Net Classifier (mixing alpha=0.5 / Binomial Deviance)\n",
            "[59]: 0.3838 - Elastic-Net Classifier (mixing alpha=0.5 / Binomial Deviance)\n",
            "[60]: 0.38401 - Auto-Tuned Word N-Gram Text Modeler using token occurrences - emp_title\n",
            "[61]: 0.38401 - Auto-Tuned Word N-Gram Text Modeler using token occurrences - emp_title\n",
            "[62]: 0.38428 - Auto-Tuned Word N-Gram Text Modeler using token occurrences - emp_title\n",
            "[63]: 0.38428 - Auto-Tuned Word N-Gram Text Modeler using token occurrences - emp_title\n",
            "[64]: 0.38435 - Auto-Tuned Word N-Gram Text Modeler using token occurrences - emp_title\n",
            "[65]: 0.38441 - Auto-Tuned Word N-Gram Text Modeler using token occurrences - title\n",
            "[66]: 0.38462 - Auto-Tuned Word N-Gram Text Modeler using token occurrences - emp_title\n",
            "[67]: 0.38481 - Auto-Tuned Word N-Gram Text Modeler using token occurrences - title\n",
            "[68]: 0.38492 - Auto-Tuned Word N-Gram Text Modeler using token occurrences - title\n",
            "[69]: 0.38497 - Auto-Tuned Word N-Gram Text Modeler using token occurrences - title\n",
            "[70]: 0.38497 - Auto-Tuned Word N-Gram Text Modeler using token occurrences - emp_title\n",
            "[71]: 0.38519 - Auto-Tuned Word N-Gram Text Modeler using token occurrences - title\n",
            "[72]: 0.38532 - Auto-Tuned Word N-Gram Text Modeler using token occurrences - title\n",
            "[73]: 0.38606 - Auto-Tuned Word N-Gram Text Modeler using token occurrences - desc\n",
            "[74]: 0.38614 - Auto-Tuned Word N-Gram Text Modeler using token occurrences - desc\n",
            "[75]: 0.38639 - Majority Class Classifier\n",
            "[76]: 0.38642 - Auto-Tuned Word N-Gram Text Modeler using token occurrences - url\n",
            "[77]: 0.38642 - Eureqa Generalized Additive Model Classifier (1000 Generations)\n",
            "[78]: 0.38662 - Auto-Tuned Word N-Gram Text Modeler using token occurrences - url\n",
            "[79]: 0.38705 - Regularized Logistic Regression (L2)\n",
            "[80]: 0.38711 - Auto-Tuned Word N-Gram Text Modeler using token occurrences - desc\n",
            "[81]: 0.38711 - Auto-Tuned Word N-Gram Text Modeler using token occurrences - desc\n",
            "[82]: 0.38712 - Elastic-Net Classifier (L2 / Binomial Deviance)\n",
            "[83]: 0.38738 - Auto-Tuned Word N-Gram Text Modeler using token occurrences - url\n",
            "[84]: 0.38749 - Gradient Boosted Greedy Trees Classifier with Early Stopping\n",
            "[85]: 0.43163 - RuleFit Classifier\n",
            "[86]: 0.43413 - Naive Bayes combiner classifier\n",
            "[87]: 0.43484 - Keras Slim Residual Neural Network Classifier using Training Schedule (1 Layer: 64 Units)\n",
            "[88]: 0.44045 - Auto-tuned K-Nearest Neighbors Classifier (Euclidean Distance)\n",
            "[89]: 0.44658 - Logistic Regression\n",
            "[90]: 0.48423 - Decision Tree Classifier (Gini)\n"
          ]
        }
      ]
    },
    {
      "cell_type": "code",
      "source": [
        "dataset = proj.upload_dataset(filename)\n",
        "\n",
        "model = dr.ModelRecommendation.get(\n",
        "    proj.id,\n",
        "    dr.enums.RECOMMENDED_MODEL_TYPE.RECOMMENDED_FOR_DEPLOYMENT\n",
        ").get_model()\n",
        "\n",
        "pred_job = model.request_predictions(dataset.id)\n",
        "preds = pred_job.get_result_when_complete()"
      ],
      "metadata": {
        "id": "cBuDrySS2QkL"
      },
      "execution_count": 34,
      "outputs": []
    },
    {
      "cell_type": "markdown",
      "source": [
        "**Results**"
      ],
      "metadata": {
        "id": "dGnf_lZDAfLd"
      }
    },
    {
      "cell_type": "code",
      "source": [
        "preds.head()"
      ],
      "metadata": {
        "colab": {
          "base_uri": "https://localhost:8080/",
          "height": 206
        },
        "id": "MPSqNXsS2wr_",
        "outputId": "799a5da2-c701-4a78-8cc5-029d0c80e0ca"
      },
      "execution_count": 35,
      "outputs": [
        {
          "output_type": "execute_result",
          "data": {
            "text/plain": [
              "   row_id  prediction  positive_probability  prediction_threshold  class_0.0  \\\n",
              "0       0         0.0              0.044376                   0.5   0.955624   \n",
              "1       1         0.0              0.271786                   0.5   0.728214   \n",
              "2       2         0.0              0.041263                   0.5   0.958737   \n",
              "3       3         0.0              0.110530                   0.5   0.889470   \n",
              "4       4         0.0              0.027711                   0.5   0.972289   \n",
              "\n",
              "   class_1.0  \n",
              "0   0.044376  \n",
              "1   0.271786  \n",
              "2   0.041263  \n",
              "3   0.110530  \n",
              "4   0.027711  "
            ],
            "text/html": [
              "\n",
              "  <div id=\"df-56e28738-3b76-48bc-a098-ed19a43bfc3d\">\n",
              "    <div class=\"colab-df-container\">\n",
              "      <div>\n",
              "<style scoped>\n",
              "    .dataframe tbody tr th:only-of-type {\n",
              "        vertical-align: middle;\n",
              "    }\n",
              "\n",
              "    .dataframe tbody tr th {\n",
              "        vertical-align: top;\n",
              "    }\n",
              "\n",
              "    .dataframe thead th {\n",
              "        text-align: right;\n",
              "    }\n",
              "</style>\n",
              "<table border=\"1\" class=\"dataframe\">\n",
              "  <thead>\n",
              "    <tr style=\"text-align: right;\">\n",
              "      <th></th>\n",
              "      <th>row_id</th>\n",
              "      <th>prediction</th>\n",
              "      <th>positive_probability</th>\n",
              "      <th>prediction_threshold</th>\n",
              "      <th>class_0.0</th>\n",
              "      <th>class_1.0</th>\n",
              "    </tr>\n",
              "  </thead>\n",
              "  <tbody>\n",
              "    <tr>\n",
              "      <th>0</th>\n",
              "      <td>0</td>\n",
              "      <td>0.0</td>\n",
              "      <td>0.044376</td>\n",
              "      <td>0.5</td>\n",
              "      <td>0.955624</td>\n",
              "      <td>0.044376</td>\n",
              "    </tr>\n",
              "    <tr>\n",
              "      <th>1</th>\n",
              "      <td>1</td>\n",
              "      <td>0.0</td>\n",
              "      <td>0.271786</td>\n",
              "      <td>0.5</td>\n",
              "      <td>0.728214</td>\n",
              "      <td>0.271786</td>\n",
              "    </tr>\n",
              "    <tr>\n",
              "      <th>2</th>\n",
              "      <td>2</td>\n",
              "      <td>0.0</td>\n",
              "      <td>0.041263</td>\n",
              "      <td>0.5</td>\n",
              "      <td>0.958737</td>\n",
              "      <td>0.041263</td>\n",
              "    </tr>\n",
              "    <tr>\n",
              "      <th>3</th>\n",
              "      <td>3</td>\n",
              "      <td>0.0</td>\n",
              "      <td>0.110530</td>\n",
              "      <td>0.5</td>\n",
              "      <td>0.889470</td>\n",
              "      <td>0.110530</td>\n",
              "    </tr>\n",
              "    <tr>\n",
              "      <th>4</th>\n",
              "      <td>4</td>\n",
              "      <td>0.0</td>\n",
              "      <td>0.027711</td>\n",
              "      <td>0.5</td>\n",
              "      <td>0.972289</td>\n",
              "      <td>0.027711</td>\n",
              "    </tr>\n",
              "  </tbody>\n",
              "</table>\n",
              "</div>\n",
              "      <button class=\"colab-df-convert\" onclick=\"convertToInteractive('df-56e28738-3b76-48bc-a098-ed19a43bfc3d')\"\n",
              "              title=\"Convert this dataframe to an interactive table.\"\n",
              "              style=\"display:none;\">\n",
              "        \n",
              "  <svg xmlns=\"http://www.w3.org/2000/svg\" height=\"24px\"viewBox=\"0 0 24 24\"\n",
              "       width=\"24px\">\n",
              "    <path d=\"M0 0h24v24H0V0z\" fill=\"none\"/>\n",
              "    <path d=\"M18.56 5.44l.94 2.06.94-2.06 2.06-.94-2.06-.94-.94-2.06-.94 2.06-2.06.94zm-11 1L8.5 8.5l.94-2.06 2.06-.94-2.06-.94L8.5 2.5l-.94 2.06-2.06.94zm10 10l.94 2.06.94-2.06 2.06-.94-2.06-.94-.94-2.06-.94 2.06-2.06.94z\"/><path d=\"M17.41 7.96l-1.37-1.37c-.4-.4-.92-.59-1.43-.59-.52 0-1.04.2-1.43.59L10.3 9.45l-7.72 7.72c-.78.78-.78 2.05 0 2.83L4 21.41c.39.39.9.59 1.41.59.51 0 1.02-.2 1.41-.59l7.78-7.78 2.81-2.81c.8-.78.8-2.07 0-2.86zM5.41 20L4 18.59l7.72-7.72 1.47 1.35L5.41 20z\"/>\n",
              "  </svg>\n",
              "      </button>\n",
              "      \n",
              "  <style>\n",
              "    .colab-df-container {\n",
              "      display:flex;\n",
              "      flex-wrap:wrap;\n",
              "      gap: 12px;\n",
              "    }\n",
              "\n",
              "    .colab-df-convert {\n",
              "      background-color: #E8F0FE;\n",
              "      border: none;\n",
              "      border-radius: 50%;\n",
              "      cursor: pointer;\n",
              "      display: none;\n",
              "      fill: #1967D2;\n",
              "      height: 32px;\n",
              "      padding: 0 0 0 0;\n",
              "      width: 32px;\n",
              "    }\n",
              "\n",
              "    .colab-df-convert:hover {\n",
              "      background-color: #E2EBFA;\n",
              "      box-shadow: 0px 1px 2px rgba(60, 64, 67, 0.3), 0px 1px 3px 1px rgba(60, 64, 67, 0.15);\n",
              "      fill: #174EA6;\n",
              "    }\n",
              "\n",
              "    [theme=dark] .colab-df-convert {\n",
              "      background-color: #3B4455;\n",
              "      fill: #D2E3FC;\n",
              "    }\n",
              "\n",
              "    [theme=dark] .colab-df-convert:hover {\n",
              "      background-color: #434B5C;\n",
              "      box-shadow: 0px 1px 3px 1px rgba(0, 0, 0, 0.15);\n",
              "      filter: drop-shadow(0px 1px 2px rgba(0, 0, 0, 0.3));\n",
              "      fill: #FFFFFF;\n",
              "    }\n",
              "  </style>\n",
              "\n",
              "      <script>\n",
              "        const buttonEl =\n",
              "          document.querySelector('#df-56e28738-3b76-48bc-a098-ed19a43bfc3d button.colab-df-convert');\n",
              "        buttonEl.style.display =\n",
              "          google.colab.kernel.accessAllowed ? 'block' : 'none';\n",
              "\n",
              "        async function convertToInteractive(key) {\n",
              "          const element = document.querySelector('#df-56e28738-3b76-48bc-a098-ed19a43bfc3d');\n",
              "          const dataTable =\n",
              "            await google.colab.kernel.invokeFunction('convertToInteractive',\n",
              "                                                     [key], {});\n",
              "          if (!dataTable) return;\n",
              "\n",
              "          const docLinkHtml = 'Like what you see? Visit the ' +\n",
              "            '<a target=\"_blank\" href=https://colab.research.google.com/notebooks/data_table.ipynb>data table notebook</a>'\n",
              "            + ' to learn more about interactive tables.';\n",
              "          element.innerHTML = '';\n",
              "          dataTable['output_type'] = 'display_data';\n",
              "          await google.colab.output.renderOutput(dataTable, element);\n",
              "          const docLink = document.createElement('div');\n",
              "          docLink.innerHTML = docLinkHtml;\n",
              "          element.appendChild(docLink);\n",
              "        }\n",
              "      </script>\n",
              "    </div>\n",
              "  </div>\n",
              "  "
            ]
          },
          "metadata": {},
          "execution_count": 35
        }
      ]
    }
  ]
}